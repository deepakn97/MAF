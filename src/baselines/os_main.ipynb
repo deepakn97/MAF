{
 "cells": [
  {
   "cell_type": "code",
   "execution_count": 1,
   "metadata": {},
   "outputs": [],
   "source": [
    "%load_ext autoreload\n",
    "%autoreload 2"
   ]
  },
  {
   "cell_type": "code",
   "execution_count": 2,
   "metadata": {},
   "outputs": [],
   "source": [
    "import sys\n",
    "sys.path.append('../../')"
   ]
  },
  {
   "cell_type": "code",
   "execution_count": 27,
   "metadata": {},
   "outputs": [],
   "source": [
    "import asyncio\n",
    "import math\n",
    "import os\n",
    "import time\n",
    "from typing import List\n",
    "import pandas as pd\n",
    "import torch\n",
    "from tqdm import tqdm\n",
    "from src.utils import Prompt, acall_gpt, call_gpt, VICUNA_MODEL_PATH, ALPACA_MODEL_PATH, get_gpu_memory\n",
    "from fastchat.model.model_adapter import get_conversation_template\n",
    "from fastchat.serve.inference import load_model\n",
    "from os_models import OSInit\n",
    "import baseline_utils\n",
    "from types import SimpleNamespace\n",
    "import json\n"
   ]
  },
  {
   "cell_type": "code",
   "execution_count": 29,
   "metadata": {},
   "outputs": [],
   "source": [
    "args = {\n",
    "    'data_dir': '../../data/gsm_data',\n",
    "    'save_dir': 'models',\n",
    "    'debug': False,\n",
    "    'exp_label': 'default',\n",
    "    'task': '0cot_gsm',\n",
    "    'model': 'alpaca',\n",
    "    'max_tokens': 2048,\n",
    "    'temperature': 0.0,\n",
    "}\n",
    "args['ckpt_path'] = os.path.join(args['save_dir'], args['exp_label'])\n",
    "args = SimpleNamespace(**args)"
   ]
  },
  {
   "cell_type": "code",
   "execution_count": null,
   "metadata": {},
   "outputs": [],
   "source": []
  },
  {
   "cell_type": "code",
   "execution_count": 25,
   "metadata": {},
   "outputs": [],
   "source": [
    "def gsm_baseline(model, task):\n",
    "    model.setup_prompt_from_examples_file(f'../../prompt/os_baseline/{task}.txt')\n",
    "    \n",
    "    for i in range(3):\n",
    "        for variant in ['original', 'irc']:\n",
    "            data = baseline_utils.load_gsm_data(os.path.join(args.data_dir, f'gsmic_mixed_{i}_{variant}.jsonl'))\n",
    "            if (os.path.exists(os.path.join(args.save_dir, f'gsmic_mixed_{i}_{variant}_output_{args.model}_{task}.json')) \n",
    "                or os.path.exists(os.path.join(args.save_dir, f'hand_gsmic_mixed_{i}_{variant}_output_{args.model}_{task}.json'))):\n",
    "                continue\n",
    "            solutions = model([d['input'] for d in data])\n",
    "            for i in range(len(data)):\n",
    "                data[i]['output'] = solutions[i]\n",
    "            output_file = os.path.join(args.save_dir, f'gsmic_mixed_{i}_{variant}_output_{args.model}_{task}.json')\n",
    "            with open(output_file, 'w') as f:\n",
    "                  f.write(json.dumps(data) + '\\n')"
   ]
  },
  {
   "cell_type": "code",
   "execution_count": 11,
   "metadata": {},
   "outputs": [],
   "source": [
    "data = baseline_utils.load_gsm_data(os.path.join(args.data_dir, f'gsmic_mixed_0_original.jsonl'))"
   ]
  },
  {
   "cell_type": "code",
   "execution_count": 12,
   "metadata": {},
   "outputs": [
    {
     "data": {
      "text/plain": [
       "[{'input': \"Oli's banana split has 4 scoops of ice cream while Victoria has twice more scoops of ice cream than Oli's. How many more scoops of ice cream does Victoria have than Oli?\",\n",
       "  'target': '4',\n",
       "  'n_steps': 2},\n",
       " {'input': \"Mr. Angstadt has 120 students throughout the school day.  Half of them are enrolled in Statistics.  Of the students in Statistics, 90 percent are seniors.  How many of Mr. Angstadt's students are seniors enrolled in Statistics?\",\n",
       "  'target': '54',\n",
       "  'n_steps': 2},\n",
       " {'input': 'Helga went shopping for a new pair of shoes. At the first store, she tried on 7 pairs of shoes. At the second store, she tried on 2 more pairs than at the first store. At the third store, she did not try on any shoes, but she did buy a scarf.  But at the fourth store, she tried on twice as many pairs of shoes as she did at all three other stores combined, before finally choosing a pair to buy.  What is the total number of pairs of shoes Helga tried on before buying her new shoes?',\n",
       "  'target': '48',\n",
       "  'n_steps': 4}]"
      ]
     },
     "execution_count": 12,
     "metadata": {},
     "output_type": "execute_result"
    }
   ],
   "source": [
    "data[:3]"
   ]
  },
  {
   "cell_type": "code",
   "execution_count": 23,
   "metadata": {},
   "outputs": [
    {
     "name": "stdout",
     "output_type": "stream",
     "text": [
      "0,1,2\n"
     ]
    },
    {
     "name": "stderr",
     "output_type": "stream",
     "text": [
      "Loading checkpoint shards: 100%|██████████| 3/3 [00:24<00:00,  8.21s/it]\n"
     ]
    }
   ],
   "source": [
    "os_task_init = OSInit(\n",
    "        prompt_examples=f'../../prompt/os_baseline/0cot_gsm.txt',\n",
    "        engine=args.model,\n",
    "        temperature=0.01\n",
    ")"
   ]
  },
  {
   "cell_type": "code",
   "execution_count": 30,
   "metadata": {},
   "outputs": [
    {
     "name": "stdout",
     "output_type": "stream",
     "text": [
      "alpaca 0cot_gsm\n",
      "['A chat between a curious human and an artificial intelligence assistant. The assistant gives helpful, detailed, and polite answers to the human\\'s questions.\\n### Human: What are the key differences between renewable and non-renewable energy sources?\\n### Assistant: Renewable energy sources are those that can be replenished naturally in a relatively short amount of time, such as solar, wind, hydro, geothermal, and biomass. Non-renewable energy sources, on the other hand, are finite and will eventually be depleted, such as coal, oil, and natural gas. Here are some key differences between renewable and non-renewable energy sources:\\n1. Availability: Renewable energy sources are virtually inexhaustible, while non-renewable energy sources are finite and will eventually run out.\\n2. Environmental impact: Renewable energy sources have a much lower environmental impact than non-renewable sources, which can lead to air and water pollution, greenhouse gas emissions, and other negative effects.\\n3. Cost: Renewable energy sources can be more expensive to initially set up, but they typically have lower operational costs than non-renewable sources.\\n4. Reliability: Renewable energy sources are often more reliable and can be used in more remote locations than non-renewable sources.\\n5. Flexibility: Renewable energy sources are often more flexible and can be adapted to different situations and needs, while non-renewable sources are more rigid and inflexible.\\n6. Sustainability: Renewable energy sources are more sustainable over the long term, while non-renewable sources are not, and their depletion can lead to economic and social instability.\\n### Human: Let\\'s think step by step. End your answer with \"final_answer: \". Oli\\'s banana split has 4 scoops of ice cream while Victoria has twice more scoops of ice cream than Oli\\'s. How many more scoops of ice cream does Victoria have than Oli?\\n\\n\\n### Assistant:']\n"
     ]
    },
    {
     "name": "stderr",
     "output_type": "stream",
     "text": [
      "  0%|          | 0/1 [00:00<?, ?it/s]"
     ]
    },
    {
     "name": "stdout",
     "output_type": "stream",
     "text": [
      "GPU Memory 0: 4.351450624 GB\n",
      "GPU Memory 1: 4.895530496 GB\n",
      "GPU Memory 2: 4.34184192 GB\n"
     ]
    },
    {
     "name": "stderr",
     "output_type": "stream",
     "text": [
      "100%|██████████| 1/1 [00:02<00:00,  2.15s/it]\n"
     ]
    },
    {
     "name": "stdout",
     "output_type": "stream",
     "text": [
      "['A chat between a curious human and an artificial intelligence assistant. The assistant gives helpful, detailed, and polite answers to the human\\'s questions.\\n### Human: What are the key differences between renewable and non-renewable energy sources?\\n### Assistant: Renewable energy sources are those that can be replenished naturally in a relatively short amount of time, such as solar, wind, hydro, geothermal, and biomass. Non-renewable energy sources, on the other hand, are finite and will eventually be depleted, such as coal, oil, and natural gas. Here are some key differences between renewable and non-renewable energy sources:\\n1. Availability: Renewable energy sources are virtually inexhaustible, while non-renewable energy sources are finite and will eventually run out.\\n2. Environmental impact: Renewable energy sources have a much lower environmental impact than non-renewable sources, which can lead to air and water pollution, greenhouse gas emissions, and other negative effects.\\n3. Cost: Renewable energy sources can be more expensive to initially set up, but they typically have lower operational costs than non-renewable sources.\\n4. Reliability: Renewable energy sources are often more reliable and can be used in more remote locations than non-renewable sources.\\n5. Flexibility: Renewable energy sources are often more flexible and can be adapted to different situations and needs, while non-renewable sources are more rigid and inflexible.\\n6. Sustainability: Renewable energy sources are more sustainable over the long term, while non-renewable sources are not, and their depletion can lead to economic and social instability.\\n### Human: Let\\'s think step by step. End your answer with \"final_answer: \". Oli\\'s banana split has 4 scoops of ice cream while Victoria has twice more scoops of ice cream than Oli\\'s. Emma bought 4 tomatoes from the grocery store. How many more scoops of ice cream does Victoria have than Oli?\\n\\n\\n### Assistant:']\n"
     ]
    },
    {
     "name": "stderr",
     "output_type": "stream",
     "text": [
      "  0%|          | 0/1 [00:00<?, ?it/s]"
     ]
    },
    {
     "name": "stdout",
     "output_type": "stream",
     "text": [
      "GPU Memory 0: 4.351450624 GB\n",
      "GPU Memory 1: 4.895530496 GB\n",
      "GPU Memory 2: 4.34184192 GB\n"
     ]
    },
    {
     "name": "stderr",
     "output_type": "stream",
     "text": [
      "100%|██████████| 1/1 [00:05<00:00,  5.23s/it]\n"
     ]
    }
   ],
   "source": [
    "\n",
    "print(args.model, args.task)\n",
    "gsm_baseline(os_task_init, args.task)"
   ]
  }
 ],
 "metadata": {
  "kernelspec": {
   "display_name": "maf",
   "language": "python",
   "name": "python3"
  },
  "language_info": {
   "codemirror_mode": {
    "name": "ipython",
    "version": 3
   },
   "file_extension": ".py",
   "mimetype": "text/x-python",
   "name": "python",
   "nbconvert_exporter": "python",
   "pygments_lexer": "ipython3",
   "version": "3.10.11"
  },
  "orig_nbformat": 4
 },
 "nbformat": 4,
 "nbformat_minor": 2
}
