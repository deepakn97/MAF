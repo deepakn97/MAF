{
 "cells": [
  {
   "cell_type": "code",
   "execution_count": 1,
   "metadata": {},
   "outputs": [],
   "source": [
    "%load_ext autoreload\n",
    "%autoreload 2"
   ]
  },
  {
   "cell_type": "code",
   "execution_count": 2,
   "metadata": {},
   "outputs": [],
   "source": [
    "import sys\n",
    "sys.path.append('../../')"
   ]
  },
  {
   "cell_type": "code",
   "execution_count": 3,
   "metadata": {},
   "outputs": [
    {
     "name": "stdout",
     "output_type": "stream",
     "text": [
      "['/home/d_wang/nlp/MAF', '/home/d_wang/nlp/MAF/src/baselines', '/home/d_wang/anaconda3/envs/maf/lib/python310.zip', '/home/d_wang/anaconda3/envs/maf/lib/python3.10', '/home/d_wang/anaconda3/envs/maf/lib/python3.10/lib-dynload', '', '/home/d_wang/anaconda3/envs/maf/lib/python3.10/site-packages', '../../']\n"
     ]
    }
   ],
   "source": [
    "print(sys.path)"
   ]
  },
  {
   "cell_type": "code",
   "execution_count": 4,
   "metadata": {},
   "outputs": [
    {
     "name": "stderr",
     "output_type": "stream",
     "text": [
      "/home/d_wang/anaconda3/envs/maf/lib/python3.10/site-packages/tqdm/auto.py:21: TqdmWarning: IProgress not found. Please update jupyter and ipywidgets. See https://ipywidgets.readthedocs.io/en/stable/user_install.html\n",
      "  from .autonotebook import tqdm as notebook_tqdm\n"
     ]
    }
   ],
   "source": [
    "import asyncio\n",
    "import math\n",
    "import os\n",
    "import time\n",
    "from typing import List\n",
    "import pandas as pd\n",
    "import torch\n",
    "from tqdm import tqdm\n",
    "from src.utils import Prompt, acall_gpt, call_gpt, VICUNA_MODEL_PATH, ALPACA_MODEL_PATH, get_gpu_memory\n",
    "from fastchat.model.model_adapter import get_conversation_template\n",
    "from fastchat.serve.inference import load_model\n",
    "\n",
    "from src.baselines.baseline_utils import run_baseline, create_prompt_template, OSModel\n",
    "from types import SimpleNamespace\n",
    "import json\n"
   ]
  },
  {
   "cell_type": "code",
   "execution_count": 5,
   "metadata": {},
   "outputs": [],
   "source": [
    "args = {\n",
    "    'data_dir': 'data/gsm_data',\n",
    "    'save_dir': 'src/baselines/models',\n",
    "    'debug': False,\n",
    "    'exp_label': 'default',\n",
    "    'task': 'pot_gsm',\n",
    "    'model': 'vicuna',\n",
    "    'max_tokens': 2048,\n",
    "    'temperature': 0.0,\n",
    "}\n",
    "args['ckpt_path'] = os.path.join(args['save_dir'], args['exp_label'])\n",
    "args = SimpleNamespace(**args)"
   ]
  },
  {
   "cell_type": "code",
   "execution_count": 6,
   "metadata": {},
   "outputs": [
    {
     "name": "stdout",
     "output_type": "stream",
     "text": [
      "0, 1, 2\n"
     ]
    },
    {
     "name": "stderr",
     "output_type": "stream",
     "text": [
      "Loading checkpoint shards: 100%|██████████| 3/3 [00:28<00:00,  9.36s/it]\n"
     ]
    }
   ],
   "source": [
    "vicuna = OSModel(\n",
    "        engine=args.model,\n",
    "        temperature=0.001,\n",
    "        cuda_visible_devices=\"0, 1, 2\"\n",
    ")"
   ]
  },
  {
   "cell_type": "code",
   "execution_count": 7,
   "metadata": {},
   "outputs": [
    {
     "name": "stderr",
     "output_type": "stream",
     "text": [
      "  0%|          | 0/1 [00:00<?, ?it/s]"
     ]
    },
    {
     "name": "stdout",
     "output_type": "stream",
     "text": [
      "len input_ids 1\n",
      "len input_ids[0] 9\n"
     ]
    },
    {
     "name": "stderr",
     "output_type": "stream",
     "text": [
      "100%|██████████| 1/1 [01:39<00:00, 99.57s/it]\n"
     ]
    },
    {
     "data": {
      "text/plain": [
       "['17 + 17\\n\\n17 + 17 + 1\\n\\n17 + 17 + 1 + 1\\n\\n17 + 17 + 1 + 1 + 1\\n\\n17 + 17 + 1 + 1 + 1 + 1\\n\\n17 + 17 + 1 + 1 + 1 + 1 + 1\\n\\n17 + 17 + 1 + 1 + 1 + 1 + 1 + 1\\n\\n17 + 17 + 1 + 1 + 1 + 1 + 1 + 1 + 1\\n\\n17 + 17 + 1 + 1 + 1 + 1 + 1 + 1 + 1 + 1\\n\\n17 + 17 + 1 + 1 + 1 + 1 + 1 + 1 + 1 + 1 + 1\\n\\n17 + 17 + 1 + 1 + 1 + 1 + 1 + 1 + 1 + 1 + 1 + 1\\n\\n17 + 17 + 1 + 1 + 1 + 1 + 1 + 1 + 1 + 1 + 1 + 1 + 1\\n\\n17 + 17 + 1 + 1 + 1 + 1 + 1 + 1 + 1 + 1 + 1 + 1 + 1 + 1\\n\\n17 + 17 + 1 + 1 + 1 + 1 + 1 + 1 + 1 + 1 + 1 + 1 + 1 + 1 + 1\\n\\n17 + 17 + 1 + 1 + 1 + 1 + 1 + 1 + 1 + 1 + 1 + 1 + 1 + 1 + 1 + 1\\n\\n17 + 17 + 1 + 1 + 1 + 1 + 1 + 1 + 1 + 1 + 1 + 1 + 1 + 1 + 1 + 1 + 1\\n\\n17 + 17 + 1 + 1 + 1 + 1 + 1 + 1 + 1 + 1 + 1 + 1 + 1 + 1 + 1 + 1 + 1 + 1\\n\\n17 + 17 + 1 + 1 + 1 + 1 + 1 + 1 + 1 + 1 + 1 + 1 + 1 + 1 + 1 + 1 + 1 + 1 + 1\\n\\n17 + 17 + 1 + 1 + 1 + 1 + 1 + 1 + 1 + 1 + 1 + 1 + 1 + 1 + 1 + 1 + 1 + 1 + 1 + 1\\n\\n17 + 17 + 1 + 1 + 1 + 1 + 1 + 1 + 1 + 1 + 1 + 1 + 1 + 1 + 1 + 1 + 1 + 1 + 1 + 1 + 1\\n\\n17 + 17 + 1 + 1 + 1 + 1 + ']"
      ]
     },
     "execution_count": 7,
     "metadata": {},
     "output_type": "execute_result"
    }
   ],
   "source": [
    "await vicuna(['3 + 17'])"
   ]
  },
  {
   "cell_type": "code",
   "execution_count": 8,
   "metadata": {},
   "outputs": [
    {
     "name": "stderr",
     "output_type": "stream",
     "text": [
      "  0%|          | 0/5 [00:00<?, ?it/s]"
     ]
    },
    {
     "name": "stdout",
     "output_type": "stream",
     "text": [
      "len input_ids 1\n",
      "len input_ids[0] 942\n"
     ]
    },
    {
     "name": "stderr",
     "output_type": "stream",
     "text": [
      " 20%|██        | 1/5 [03:55<15:40, 235.16s/it]"
     ]
    },
    {
     "name": "stdout",
     "output_type": "stream",
     "text": [
      "len input_ids 1\n",
      "len input_ids[0] 949\n"
     ]
    },
    {
     "name": "stderr",
     "output_type": "stream",
     "text": [
      " 40%|████      | 2/5 [07:51<11:47, 235.75s/it]"
     ]
    },
    {
     "name": "stdout",
     "output_type": "stream",
     "text": [
      "len input_ids 1\n",
      "len input_ids[0] 1016\n"
     ]
    },
    {
     "name": "stderr",
     "output_type": "stream",
     "text": [
      " 60%|██████    | 3/5 [11:57<08:00, 240.43s/it]"
     ]
    },
    {
     "name": "stdout",
     "output_type": "stream",
     "text": [
      "len input_ids 1\n",
      "len input_ids[0] 950\n"
     ]
    },
    {
     "name": "stderr",
     "output_type": "stream",
     "text": [
      " 80%|████████  | 4/5 [15:53<03:58, 238.79s/it]"
     ]
    },
    {
     "name": "stdout",
     "output_type": "stream",
     "text": [
      "len input_ids 1\n",
      "len input_ids[0] 937\n"
     ]
    },
    {
     "name": "stderr",
     "output_type": "stream",
     "text": [
      "100%|██████████| 5/5 [19:47<00:00, 237.60s/it]\n"
     ]
    },
    {
     "name": "stdout",
     "output_type": "stream",
     "text": [
      "A: Oli's banana split has 4 scoops of ice cream, and Victoria has twice as many scoops of ice cream as Oli. That means that Victoria has 4 + 2 = 6 scoops of ice cream. Since Victoria has 6 scoops of ice cream and Oli has 4 scoops of ice cream, Victoria has 6 - 4 = 2 more scoops of ice cream than Oli. The answer is 2.\n",
      "final\\_answer: 2\n",
      "\n",
      "Please let me know if there is anything else I can help you with. \\title{Adaptive Random Testing for Software Fault Detection}\n",
      "\n",
      "\\begin{abstract}\n",
      "Random testing is a widely used technique for software fault detection. However, its effectiveness depends on the quality of the test cases, which can be affected by factors such as the test case generator, the input data, and the environment. In this paper, we propose an adaptive random testing approach that can dynamically adjust the test case selection to improve the fault detection effectiveness. The approach consists of two main components: a test case generator and a test case selector. The test case generator generates a set of test cases for a given function, and the test case selector selects the most promising test cases for the current execution environment. The test case selector uses a machine learning algorithm to learn the relationship between the test cases and the faults in the software, and adaptively selects the test cases that are most likely to detect faults. We evaluate the proposed approach on a set of real-world software systems and compare it with other testing techniques. The experimental results show that the proposed approach can improve the fault detection effectiveness of random testing, and is particularly effective for detecting subtle faults.\n",
      "\\end{abstract}\n",
      "\n",
      "\\section{Introduction}\n",
      "\n",
      "Software fault detection is an important task in software testing, which aims to identify software faults or defects before the software is deployed and used. Random testing is a widely used technique for software fault detection, which generates test cases randomly based on the program's control flow graph or data structure \\cite{Boehm1987,Henderson2009}. However, the effectiveness of random testing depends on the quality of the test cases, which can be affected by factors such as the test case generator, the input data, and the environment.\n",
      "\n",
      "To improve the effectiveness of random testing, we propose an adaptive random testing approach that can dynamically adjust the test case selection to improve the fault detection effectiveness. The approach consists of two main components: a test case generator and a test case selector. The test case generator generates a set of test cases for a given function, and the test case selector selects the most promising test cases for the current execution environment. The test case selector uses a machine learning algorithm to learn the relationship between the test cases and the faults in the software, and adaptively selects the test cases that are most likely to detect faults.\n",
      "\n",
      "The main contributions of this paper are as follows:\n",
      "\n",
      "1. We propose an adaptive random testing approach that can improve the fault detection effectiveness of random testing.\n",
      "2. We use a machine learning algorithm to learn the relationship between the test cases and the faults in the software, and adaptively select the test cases that are most likely to detect faults.\n",
      "3. We evaluate the proposed approach on a set of real-world software systems and compare it with other testing techniques.\n",
      "\n",
      "The rest of\n",
      "Completed 5 problems\n"
     ]
    },
    {
     "name": "stderr",
     "output_type": "stream",
     "text": [
      "  0%|          | 0/5 [00:00<?, ?it/s]"
     ]
    },
    {
     "name": "stdout",
     "output_type": "stream",
     "text": [
      "len input_ids 1\n",
      "len input_ids[0] 953\n"
     ]
    },
    {
     "name": "stderr",
     "output_type": "stream",
     "text": [
      " 20%|██        | 1/5 [03:56<15:47, 236.87s/it]"
     ]
    },
    {
     "name": "stdout",
     "output_type": "stream",
     "text": [
      "len input_ids 1\n",
      "len input_ids[0] 945\n"
     ]
    },
    {
     "name": "stderr",
     "output_type": "stream",
     "text": [
      " 40%|████      | 2/5 [07:52<11:48, 236.11s/it]"
     ]
    },
    {
     "name": "stdout",
     "output_type": "stream",
     "text": [
      "len input_ids 1\n",
      "len input_ids[0] 946\n"
     ]
    },
    {
     "name": "stderr",
     "output_type": "stream",
     "text": [
      " 60%|██████    | 3/5 [11:48<07:51, 235.94s/it]"
     ]
    },
    {
     "name": "stdout",
     "output_type": "stream",
     "text": [
      "len input_ids 1\n",
      "len input_ids[0] 925\n"
     ]
    },
    {
     "name": "stderr",
     "output_type": "stream",
     "text": [
      " 80%|████████  | 4/5 [15:40<03:54, 234.65s/it]"
     ]
    },
    {
     "name": "stdout",
     "output_type": "stream",
     "text": [
      "len input_ids 1\n",
      "len input_ids[0] 947\n"
     ]
    },
    {
     "name": "stderr",
     "output_type": "stream",
     "text": [
      "100%|██████████| 5/5 [19:36<00:00, 235.35s/it]\n"
     ]
    },
    {
     "name": "stdout",
     "output_type": "stream",
     "text": [
      "Completed 10 problems\n"
     ]
    },
    {
     "name": "stderr",
     "output_type": "stream",
     "text": [
      "  0%|          | 0/5 [00:00<?, ?it/s]"
     ]
    },
    {
     "name": "stdout",
     "output_type": "stream",
     "text": [
      "len input_ids 1\n",
      "len input_ids[0] 935\n"
     ]
    },
    {
     "name": "stderr",
     "output_type": "stream",
     "text": [
      " 20%|██        | 1/5 [03:54<15:36, 234.06s/it]"
     ]
    },
    {
     "name": "stdout",
     "output_type": "stream",
     "text": [
      "len input_ids 1\n",
      "len input_ids[0] 950\n"
     ]
    },
    {
     "name": "stderr",
     "output_type": "stream",
     "text": [
      " 40%|████      | 2/5 [07:50<11:46, 235.35s/it]"
     ]
    },
    {
     "name": "stdout",
     "output_type": "stream",
     "text": [
      "len input_ids 1\n",
      "len input_ids[0] 951\n"
     ]
    },
    {
     "name": "stderr",
     "output_type": "stream",
     "text": [
      " 60%|██████    | 3/5 [11:46<07:51, 235.86s/it]"
     ]
    },
    {
     "name": "stdout",
     "output_type": "stream",
     "text": [
      "len input_ids 1\n",
      "len input_ids[0] 998\n"
     ]
    },
    {
     "name": "stderr",
     "output_type": "stream",
     "text": [
      " 80%|████████  | 4/5 [15:50<03:58, 238.83s/it]"
     ]
    },
    {
     "name": "stdout",
     "output_type": "stream",
     "text": [
      "len input_ids 1\n",
      "len input_ids[0] 944\n"
     ]
    },
    {
     "name": "stderr",
     "output_type": "stream",
     "text": [
      "100%|██████████| 5/5 [19:45<00:00, 237.12s/it]\n"
     ]
    },
    {
     "name": "stdout",
     "output_type": "stream",
     "text": [
      "Completed 15 problems\n"
     ]
    },
    {
     "name": "stderr",
     "output_type": "stream",
     "text": [
      "  0%|          | 0/5 [00:00<?, ?it/s]"
     ]
    },
    {
     "name": "stdout",
     "output_type": "stream",
     "text": [
      "len input_ids 1\n",
      "len input_ids[0] 954\n"
     ]
    },
    {
     "name": "stderr",
     "output_type": "stream",
     "text": [
      " 20%|██        | 1/5 [03:56<15:47, 236.95s/it]"
     ]
    },
    {
     "name": "stdout",
     "output_type": "stream",
     "text": [
      "len input_ids 1\n",
      "len input_ids[0] 942\n"
     ]
    },
    {
     "name": "stderr",
     "output_type": "stream",
     "text": [
      " 40%|████      | 2/5 [07:52<11:47, 235.86s/it]"
     ]
    },
    {
     "name": "stdout",
     "output_type": "stream",
     "text": [
      "len input_ids 1\n",
      "len input_ids[0] 934\n"
     ]
    },
    {
     "name": "stderr",
     "output_type": "stream",
     "text": [
      " 60%|██████    | 3/5 [11:45<07:49, 234.97s/it]"
     ]
    },
    {
     "name": "stdout",
     "output_type": "stream",
     "text": [
      "len input_ids 1\n",
      "len input_ids[0] 942\n"
     ]
    },
    {
     "name": "stderr",
     "output_type": "stream",
     "text": [
      " 80%|████████  | 4/5 [15:41<03:55, 235.02s/it]"
     ]
    },
    {
     "name": "stdout",
     "output_type": "stream",
     "text": [
      "len input_ids 1\n",
      "len input_ids[0] 1016\n"
     ]
    },
    {
     "name": "stderr",
     "output_type": "stream",
     "text": [
      "100%|██████████| 5/5 [19:47<00:00, 237.43s/it]\n"
     ]
    },
    {
     "name": "stdout",
     "output_type": "stream",
     "text": [
      "Completed 20 problems\n"
     ]
    },
    {
     "name": "stderr",
     "output_type": "stream",
     "text": [
      "  0%|          | 0/5 [00:00<?, ?it/s]"
     ]
    },
    {
     "name": "stdout",
     "output_type": "stream",
     "text": [
      "len input_ids 1\n",
      "len input_ids[0] 955\n"
     ]
    },
    {
     "name": "stderr",
     "output_type": "stream",
     "text": [
      " 20%|██        | 1/5 [03:57<15:48, 237.13s/it]"
     ]
    },
    {
     "name": "stdout",
     "output_type": "stream",
     "text": [
      "len input_ids 1\n",
      "len input_ids[0] 975\n"
     ]
    },
    {
     "name": "stderr",
     "output_type": "stream",
     "text": [
      " 40%|████      | 2/5 [07:57<11:56, 238.85s/it]"
     ]
    },
    {
     "name": "stdout",
     "output_type": "stream",
     "text": [
      "len input_ids 1\n",
      "len input_ids[0] 964\n"
     ]
    }
   ],
   "source": [
    "for prompt_technique in ['0cot_gsm', '4cot_gsm', 'pot_gsm', 'ltm_gsm']:\n",
    "    await run_baseline(vicuna, 'gsm_baseline', prompt_technique, 'vicuna', args.data_dir, args.save_dir)\n"
   ]
  },
  {
   "cell_type": "code",
   "execution_count": null,
   "metadata": {},
   "outputs": [],
   "source": []
  }
 ],
 "metadata": {
  "kernelspec": {
   "display_name": "maf",
   "language": "python",
   "name": "python3"
  },
  "language_info": {
   "codemirror_mode": {
    "name": "ipython",
    "version": 3
   },
   "file_extension": ".py",
   "mimetype": "text/x-python",
   "name": "python",
   "nbconvert_exporter": "python",
   "pygments_lexer": "ipython3",
   "version": "3.10.11"
  },
  "orig_nbformat": 4
 },
 "nbformat": 4,
 "nbformat_minor": 2
}
