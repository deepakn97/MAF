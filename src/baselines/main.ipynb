{
 "cells": [
  {
   "cell_type": "code",
   "execution_count": 2,
   "metadata": {},
   "outputs": [],
   "source": [
    "%load_ext autoreload\n",
    "%autoreload 2"
   ]
  },
  {
   "cell_type": "code",
   "execution_count": 3,
   "metadata": {},
   "outputs": [
    {
     "name": "stderr",
     "output_type": "stream",
     "text": [
      "/home/d_wang/anaconda3/envs/maf/lib/python3.10/site-packages/tqdm/auto.py:21: TqdmWarning: IProgress not found. Please update jupyter and ipywidgets. See https://ipywidgets.readthedocs.io/en/stable/user_install.html\n",
      "  from .autonotebook import tqdm as notebook_tqdm\n"
     ]
    },
    {
     "data": {
      "text/plain": [
       "False"
      ]
     },
     "execution_count": 3,
     "metadata": {},
     "output_type": "execute_result"
    }
   ],
   "source": [
    "import os\n",
    "import sys\n",
    "import json\n",
    "from time import sleep\n",
    "import nltk\n",
    "import numpy as np\n",
    "import argparse\n",
    "from langchain.llms import OpenAI\n",
    "from src.baselines.baseline_utils import load_jsonl\n",
    "from dotenv import load_dotenv\n",
    "from types import SimpleNamespace\n",
    "import asyncio\n",
    "load_dotenv()"
   ]
  },
  {
   "cell_type": "code",
   "execution_count": 2,
   "metadata": {},
   "outputs": [],
   "source": [
    "import json"
   ]
  },
  {
   "cell_type": "code",
   "execution_count": 3,
   "metadata": {},
   "outputs": [
    {
     "name": "stdout",
     "output_type": "stream",
     "text": [
      "\"\\nsent2 and sent3: united states is located in the northern hemisphere and new york / new york state is a state located in the united states of america -> int1: new york is in the northern hemisphere\\nint1 and sent4: new york is in the northern hemisphere and June is during the summer in the northern hemisphere -> int2: June is during the summer in the northern hemisphere\\nsent1 and sent6 : the amount of daylight is greatest in the summer and the amount of daylight is least in the winter -> int3: there is more sunlight in the summer than in the winter\\nint1 and sent1: new york is in the northern hemisphere and the amount of daylight is greatest in the summer -> hypothesis: new york state has the greatest sunlight during june\\n\"\n"
     ]
    }
   ],
   "source": [
    "a = \"\"\"sent2 and sent3: united states is located in the northern hemisphere and new york / new york state is a state located in the united states of america -> int1: new york is in the northern hemisphere\n",
    "int1 and sent4: new york is in the northern hemisphere and June is during the summer in the northern hemisphere -> int2: June is during the summer in the northern hemisphere\n",
    "sent1 and sent6 : the amount of daylight is greatest in the summer and the amount of daylight is least in the winter -> int3: there is more sunlight in the summer than in the winter\n",
    "int1 and sent1: new york is in the northern hemisphere and the amount of daylight is greatest in the summer -> hypothesis: new york state has the greatest sunlight during june\"\"\"\n",
    "print(json.dumps(a, indent=2))"
   ]
  },
  {
   "cell_type": "code",
   "execution_count": null,
   "metadata": {},
   "outputs": [],
   "source": [
    "args = {\n",
    "    'data_dir': '../../data/gsm_data',\n",
    "    'save_dir': 'models',\n",
    "    'debug': False,\n",
    "    'exp_label': 'default',\n",
    "    'task': 'pot_gsm',\n",
    "    'model': 'gpt-3.5-turbo',\n",
    "    'max_tokens': 2048,\n",
    "    'temperature': 0.0,\n",
    "}\n",
    "args['ckpt_path'] = os.path.join(args['save_dir'], args['exp_label'])\n",
    "args = SimpleNamespace(**args)"
   ]
  },
  {
   "cell_type": "code",
   "execution_count": null,
   "metadata": {},
   "outputs": [],
   "source": []
  }
 ],
 "metadata": {
  "kernelspec": {
   "display_name": "adversarial",
   "language": "python",
   "name": "python3"
  },
  "language_info": {
   "codemirror_mode": {
    "name": "ipython",
    "version": 3
   },
   "file_extension": ".py",
   "mimetype": "text/x-python",
   "name": "python",
   "nbconvert_exporter": "python",
   "pygments_lexer": "ipython3",
   "version": "3.10.11"
  },
  "orig_nbformat": 4
 },
 "nbformat": 4,
 "nbformat_minor": 2
}
